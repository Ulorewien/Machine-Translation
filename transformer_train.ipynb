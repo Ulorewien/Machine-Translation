{
 "cells": [
  {
   "cell_type": "code",
   "execution_count": 1,
   "metadata": {},
   "outputs": [],
   "source": [
    "import torch\n",
    "import torch.nn as nn\n",
    "from torch.utils.data import Dataset, DataLoader, random_split\n",
    "from torch.utils.tensorboard import SummaryWriter\n",
    "\n",
    "from datasets import load_dataset\n",
    "from tokenizers import Tokenizer\n",
    "from tokenizers.models import WordLevel\n",
    "from tokenizers.trainers import WordLevelTrainer\n",
    "from tokenizers.pre_tokenizers import Whitespace\n",
    "\n",
    "import warnings\n",
    "warnings.filterwarnings(\"ignore\")\n",
    "\n",
    "from pathlib import Path\n",
    "from tqdm import tqdm\n",
    "\n",
    "from dataset import OPUSBooksDataset\n",
    "from model import build_transformer\n",
    "from config import get_config\n",
    "from util import get_weights_file_path"
   ]
  },
  {
   "cell_type": "code",
   "execution_count": 2,
   "metadata": {},
   "outputs": [],
   "source": [
    "def get_all_sentences(dataset, language):\n",
    "    for item in dataset:\n",
    "        yield item[\"translation\"][language]\n",
    "\n",
    "def get_tokenizer(config, dataset, language):\n",
    "    tokenizer_path = Path(config[\"tokenizer_file\"].format(language))\n",
    "    if not Path.exists(tokenizer_path):\n",
    "        tokenizer = Tokenizer(WordLevel(unk_token=\"[UNK]\"))\n",
    "        tokenizer.pre_tokenizer = Whitespace()\n",
    "        trainer = WordLevelTrainer(special_tokens=[\"[UNK]\", \"[PAD]\", \"[SOS]\", \"[EOS]\"], min_frequency=2)\n",
    "        tokenizer.train_from_iterator(get_all_sentences(dataset, language), trainer=trainer)\n",
    "        tokenizer.save(str(tokenizer_path))\n",
    "    else:\n",
    "        tokenizer = Tokenizer.from_file(str(tokenizer_path))\n",
    "\n",
    "    return tokenizer"
   ]
  },
  {
   "cell_type": "code",
   "execution_count": 3,
   "metadata": {},
   "outputs": [],
   "source": [
    "def get_dataset(config):\n",
    "    # print(\"a\")\n",
    "    dataset_raw = load_dataset(\"Helsinki-NLP/opus_books\", f\"{config[\"language_source\"]}-{config[\"language_target\"]}\", split=\"train\")\n",
    "    # print(\"b\")\n",
    "\n",
    "    tokenizer_source = get_tokenizer(config, dataset_raw, config[\"language_source\"])\n",
    "    tokenizer_target = get_tokenizer(config, dataset_raw, config[\"language_target\"])\n",
    "    # print(\"c\")\n",
    "\n",
    "    train_size = int(0.9 * len(dataset_raw))\n",
    "    val_size = len(dataset_raw) - train_size\n",
    "    train_dataset_raw, val_dataset_raw = random_split(dataset_raw, [train_size, val_size])\n",
    "    # print(\"d\")\n",
    "\n",
    "    train_dataset = OPUSBooksDataset(train_dataset_raw, tokenizer_source, tokenizer_target, config[\"language_source\"], config[\"language_target\"], config[\"seq_len\"])\n",
    "    val_dataset = OPUSBooksDataset(val_dataset_raw, tokenizer_source, tokenizer_target, config[\"language_source\"], config[\"language_target\"], config[\"seq_len\"])\n",
    "    # print(\"e\")\n",
    "    \n",
    "    max_len_source = 0\n",
    "    max_len_target = 0\n",
    "\n",
    "    # print(len(dataset_raw))\n",
    "\n",
    "    for i, item in enumerate(dataset_raw):\n",
    "        # print(i)\n",
    "        source_ids = tokenizer_source.encode(item[\"translation\"][config[\"language_source\"]]).ids\n",
    "        target_ids = tokenizer_target.encode(item[\"translation\"][config[\"language_target\"]]).ids\n",
    "        max_len_source = max(max_len_source, len(source_ids))\n",
    "        max_len_target = max(max_len_target, len(target_ids))\n",
    "\n",
    "    print(f\"Maximum length of source sentence: {max_len_source}\")\n",
    "    print(f\"Maximum length of target sentence: {max_len_target}\")\n",
    "\n",
    "    train_loader = DataLoader(train_dataset, batch_size=config[\"batch_size\"], shuffle=True)\n",
    "    val_loader = DataLoader(val_dataset, batch_size=1, shuffle=True)\n",
    "\n",
    "    return train_loader, val_loader, tokenizer_source, tokenizer_target"
   ]
  },
  {
   "cell_type": "code",
   "execution_count": 4,
   "metadata": {},
   "outputs": [],
   "source": [
    "def get_model(config, source_vocab_size, target_vocab_size):\n",
    "    model = build_transformer(source_vocab_size, target_vocab_size, config[\"seq_len\"], config[\"seq_len\"], config[\"d_model\"], config[\"n_layer\"], config[\"n_heads\"], config[\"dropout\"], config[\"d_ff\"])\n",
    "    return model"
   ]
  },
  {
   "cell_type": "code",
   "execution_count": 5,
   "metadata": {},
   "outputs": [
    {
     "name": "stdout",
     "output_type": "stream",
     "text": [
      "Using device cuda\n"
     ]
    }
   ],
   "source": [
    "config = get_config()\n",
    "device = torch.device(\"cuda\" if torch.cuda.is_available() else \"cpu\")\n",
    "print(f\"Using device {device}\")\n",
    "\n",
    "Path(config[\"model_folder\"]).mkdir(parents=True, exist_ok=True)"
   ]
  },
  {
   "cell_type": "code",
   "execution_count": 6,
   "metadata": {},
   "outputs": [],
   "source": [
    "train_loader, val_loader, tokenizer_source, tokenizer_target = get_dataset(config)"
   ]
  },
  {
   "cell_type": "code",
   "execution_count": null,
   "metadata": {},
   "outputs": [],
   "source": [
    "model = get_model(config, tokenizer_source.get_vocab_size(), tokenizer_target.get_vocab_size()).to(device)"
   ]
  },
  {
   "cell_type": "code",
   "execution_count": null,
   "metadata": {},
   "outputs": [],
   "source": [
    "writer = SummaryWriter(config[\"experiment_name\"])\n",
    "\n",
    "optimizer = torch.optim.Adam(model.parameters(), lr=config[\"lr\"], eps=1e-9)\n",
    "\n",
    "initial_epoch = 0\n",
    "global_step = 0\n",
    "if config[\"preload\"]:\n",
    "    model_filename = get_weights_file_path(config, config[\"preload\"])\n",
    "    print(f\"Preloading model {model_filename}\")\n",
    "    state = torch.load(model_filename)\n",
    "    initial_epoch = state[\"epoch\"] + 1\n",
    "    optimizer.load_state_dict(state[\"optimizer_state_dict\"])\n",
    "    global_step = state[\"global_step\"]\n",
    "\n",
    "loss_function = nn.CrossEntropyLoss(ignore_index=tokenizer_source.token_to_id(\"[PAD]\"), label_smoothing=0.1).to(device)"
   ]
  },
  {
   "cell_type": "code",
   "execution_count": null,
   "metadata": {},
   "outputs": [],
   "source": [
    "for epoch in range(initial_epoch, config[\"n_epochs\"]):\n",
    "    model.train()\n",
    "    batch_iterator = tqdm(train_loader, desc=f\"Processing epoch {epoch:02d}\")\n",
    "    for batch in batch_iterator:\n",
    "        encoder_input = batch[\"encoder_input\"].to(device)\n",
    "        decoder_input = batch[\"decoder_input\"].to(device)\n",
    "        encoder_mask = batch[\"encoder_mask\"].to(device)\n",
    "        decoder_mask = batch[\"decoder_mask\"].to(device)\n",
    "\n",
    "        encoder_output = model.encode(encoder_input, encoder_mask)\n",
    "        decoder_output = model.decode(encoder_output, encoder_mask, decoder_input, decoder_mask)\n",
    "        projection_output = model.project(decoder_output)\n",
    "\n",
    "        label = batch[\"label\"].to(device)\n",
    "\n",
    "        loss = loss_function(projection_output.view(-1, tokenizer_target.get_vocab_size()), label.view(-1))\n",
    "        batch_iterator.set_postfix({f\"loss\": f\"{loss.item():6.3f}\"})\n",
    "\n",
    "        writer.add_scalar(\"train loss\", loss.item(), global_step)\n",
    "        writer.flush()\n",
    "\n",
    "        loss.backward()\n",
    "        optimizer.step()\n",
    "        optimizer.zero_grad()\n",
    "\n",
    "        global_step += 1\n",
    "\n",
    "    model_filename = get_weights_file_path(config, f\"{epoch:02d}\")\n",
    "    torch.save({\n",
    "        \"epcoh\": epoch,\n",
    "        \"model_state_dict\": model.state_dict(),\n",
    "        \"optimizer_state_dict\": optimizer.state_dict(),\n",
    "        \"global_step\": global_step,\n",
    "    }, model_filename)"
   ]
  },
  {
   "cell_type": "code",
   "execution_count": null,
   "metadata": {},
   "outputs": [],
   "source": []
  }
 ],
 "metadata": {
  "kernelspec": {
   "display_name": "ece_",
   "language": "python",
   "name": "python3"
  },
  "language_info": {
   "codemirror_mode": {
    "name": "ipython",
    "version": 3
   },
   "file_extension": ".py",
   "mimetype": "text/x-python",
   "name": "python",
   "nbconvert_exporter": "python",
   "pygments_lexer": "ipython3",
   "version": "3.12.3"
  }
 },
 "nbformat": 4,
 "nbformat_minor": 2
}
